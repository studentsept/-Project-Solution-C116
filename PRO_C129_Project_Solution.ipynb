{
  "nbformat": 4,
  "nbformat_minor": 0,
  "metadata": {
    "colab": {
      "provenance": [],
      "include_colab_link": true
    },
    "kernelspec": {
      "name": "python3",
      "display_name": "Python 3"
    },
    "language_info": {
      "name": "python"
    }
  },
  "cells": [
    {
      "cell_type": "markdown",
      "metadata": {
        "id": "view-in-github",
        "colab_type": "text"
      },
      "source": [
        "<a href=\"https://colab.research.google.com/github/studentsept/-Project-Solution-C116/blob/main/PRO_C129_Project_Solution.ipynb\" target=\"_parent\"><img src=\"https://colab.research.google.com/assets/colab-badge.svg\" alt=\"Open In Colab\"/></a>"
      ]
    },
    {
      "cell_type": "markdown",
      "source": [
        "*Note: The data is scraped from wikipedia webpage and might change in future, hence it might vary!*"
      ],
      "metadata": {
        "id": "odzHO6H7wG6a"
      }
    },
    {
      "cell_type": "code",
      "source": [
        "!git clone https://github.com/procodingclass/PRO-Stars-Dataset-CSVs"
      ],
      "metadata": {
        "colab": {
          "base_uri": "https://localhost:8080/"
        },
        "id": "TOKwfceIX-BG",
        "outputId": "765b9cd3-039e-456a-bcdd-573cdcaa7633"
      },
      "execution_count": null,
      "outputs": [
        {
          "output_type": "stream",
          "name": "stdout",
          "text": [
            "Cloning into 'PRO-Stars-Dataset-CSVs'...\n",
            "remote: Enumerating objects: 21, done.\u001b[K\n",
            "remote: Counting objects: 100% (21/21), done.\u001b[K\n",
            "remote: Compressing objects: 100% (12/12), done.\u001b[K\n",
            "remote: Total 21 (delta 7), reused 13 (delta 5), pack-reused 0\u001b[K\n",
            "Unpacking objects: 100% (21/21), 25.30 KiB | 2.53 MiB/s, done.\n"
          ]
        }
      ]
    },
    {
      "cell_type": "code",
      "execution_count": null,
      "metadata": {
        "id": "7OAgh0rI7rOG",
        "colab": {
          "base_uri": "https://localhost:8080/",
          "height": 363
        },
        "outputId": "59182a47-2ba3-4986-cd92-4e15288f725a"
      },
      "outputs": [
        {
          "output_type": "execute_result",
          "data": {
            "text/plain": [
              "   id                      Star_name  Distance Mass  Radius\n",
              "0   0  SDSS J000013.54+255418.6 [de]      46.1   48    0.99\n",
              "1   1        2MASS J00040288-6410358     192.0   19    1.63\n",
              "2   2                      LHS 102BC       NaN  NaN     NaN\n",
              "3   3        2MASS J00242463-0158201      37.7   79    1.09\n",
              "4   4      2MASS J00250365+4759191AB     143.0  NaN     NaN\n",
              "5   5        2MASS J00274197+0503417     236.0   31    1.44\n",
              "6   6        2MASS J00275592+2219328      46.9  NaN     NaN\n",
              "7   7         2MASSW J0030300-145033      87.2   54    0.98\n",
              "8   8   2MASS J00332386-1521309 [de]     131.0   29    1.43\n",
              "9   9        2MASS J00345157+0523050      31.0   42    0.94"
            ],
            "text/html": [
              "\n",
              "  <div id=\"df-d13c4c72-d073-4a0b-9bf7-8301c892bfce\">\n",
              "    <div class=\"colab-df-container\">\n",
              "      <div>\n",
              "<style scoped>\n",
              "    .dataframe tbody tr th:only-of-type {\n",
              "        vertical-align: middle;\n",
              "    }\n",
              "\n",
              "    .dataframe tbody tr th {\n",
              "        vertical-align: top;\n",
              "    }\n",
              "\n",
              "    .dataframe thead th {\n",
              "        text-align: right;\n",
              "    }\n",
              "</style>\n",
              "<table border=\"1\" class=\"dataframe\">\n",
              "  <thead>\n",
              "    <tr style=\"text-align: right;\">\n",
              "      <th></th>\n",
              "      <th>id</th>\n",
              "      <th>Star_name</th>\n",
              "      <th>Distance</th>\n",
              "      <th>Mass</th>\n",
              "      <th>Radius</th>\n",
              "    </tr>\n",
              "  </thead>\n",
              "  <tbody>\n",
              "    <tr>\n",
              "      <th>0</th>\n",
              "      <td>0</td>\n",
              "      <td>SDSS J000013.54+255418.6 [de]</td>\n",
              "      <td>46.1</td>\n",
              "      <td>48</td>\n",
              "      <td>0.99</td>\n",
              "    </tr>\n",
              "    <tr>\n",
              "      <th>1</th>\n",
              "      <td>1</td>\n",
              "      <td>2MASS J00040288-6410358</td>\n",
              "      <td>192.0</td>\n",
              "      <td>19</td>\n",
              "      <td>1.63</td>\n",
              "    </tr>\n",
              "    <tr>\n",
              "      <th>2</th>\n",
              "      <td>2</td>\n",
              "      <td>LHS 102BC</td>\n",
              "      <td>NaN</td>\n",
              "      <td>NaN</td>\n",
              "      <td>NaN</td>\n",
              "    </tr>\n",
              "    <tr>\n",
              "      <th>3</th>\n",
              "      <td>3</td>\n",
              "      <td>2MASS J00242463-0158201</td>\n",
              "      <td>37.7</td>\n",
              "      <td>79</td>\n",
              "      <td>1.09</td>\n",
              "    </tr>\n",
              "    <tr>\n",
              "      <th>4</th>\n",
              "      <td>4</td>\n",
              "      <td>2MASS J00250365+4759191AB</td>\n",
              "      <td>143.0</td>\n",
              "      <td>NaN</td>\n",
              "      <td>NaN</td>\n",
              "    </tr>\n",
              "    <tr>\n",
              "      <th>5</th>\n",
              "      <td>5</td>\n",
              "      <td>2MASS J00274197+0503417</td>\n",
              "      <td>236.0</td>\n",
              "      <td>31</td>\n",
              "      <td>1.44</td>\n",
              "    </tr>\n",
              "    <tr>\n",
              "      <th>6</th>\n",
              "      <td>6</td>\n",
              "      <td>2MASS J00275592+2219328</td>\n",
              "      <td>46.9</td>\n",
              "      <td>NaN</td>\n",
              "      <td>NaN</td>\n",
              "    </tr>\n",
              "    <tr>\n",
              "      <th>7</th>\n",
              "      <td>7</td>\n",
              "      <td>2MASSW J0030300-145033</td>\n",
              "      <td>87.2</td>\n",
              "      <td>54</td>\n",
              "      <td>0.98</td>\n",
              "    </tr>\n",
              "    <tr>\n",
              "      <th>8</th>\n",
              "      <td>8</td>\n",
              "      <td>2MASS J00332386-1521309 [de]</td>\n",
              "      <td>131.0</td>\n",
              "      <td>29</td>\n",
              "      <td>1.43</td>\n",
              "    </tr>\n",
              "    <tr>\n",
              "      <th>9</th>\n",
              "      <td>9</td>\n",
              "      <td>2MASS J00345157+0523050</td>\n",
              "      <td>31.0</td>\n",
              "      <td>42</td>\n",
              "      <td>0.94</td>\n",
              "    </tr>\n",
              "  </tbody>\n",
              "</table>\n",
              "</div>\n",
              "      <button class=\"colab-df-convert\" onclick=\"convertToInteractive('df-d13c4c72-d073-4a0b-9bf7-8301c892bfce')\"\n",
              "              title=\"Convert this dataframe to an interactive table.\"\n",
              "              style=\"display:none;\">\n",
              "        \n",
              "  <svg xmlns=\"http://www.w3.org/2000/svg\" height=\"24px\"viewBox=\"0 0 24 24\"\n",
              "       width=\"24px\">\n",
              "    <path d=\"M0 0h24v24H0V0z\" fill=\"none\"/>\n",
              "    <path d=\"M18.56 5.44l.94 2.06.94-2.06 2.06-.94-2.06-.94-.94-2.06-.94 2.06-2.06.94zm-11 1L8.5 8.5l.94-2.06 2.06-.94-2.06-.94L8.5 2.5l-.94 2.06-2.06.94zm10 10l.94 2.06.94-2.06 2.06-.94-2.06-.94-.94-2.06-.94 2.06-2.06.94z\"/><path d=\"M17.41 7.96l-1.37-1.37c-.4-.4-.92-.59-1.43-.59-.52 0-1.04.2-1.43.59L10.3 9.45l-7.72 7.72c-.78.78-.78 2.05 0 2.83L4 21.41c.39.39.9.59 1.41.59.51 0 1.02-.2 1.41-.59l7.78-7.78 2.81-2.81c.8-.78.8-2.07 0-2.86zM5.41 20L4 18.59l7.72-7.72 1.47 1.35L5.41 20z\"/>\n",
              "  </svg>\n",
              "      </button>\n",
              "      \n",
              "  <style>\n",
              "    .colab-df-container {\n",
              "      display:flex;\n",
              "      flex-wrap:wrap;\n",
              "      gap: 12px;\n",
              "    }\n",
              "\n",
              "    .colab-df-convert {\n",
              "      background-color: #E8F0FE;\n",
              "      border: none;\n",
              "      border-radius: 50%;\n",
              "      cursor: pointer;\n",
              "      display: none;\n",
              "      fill: #1967D2;\n",
              "      height: 32px;\n",
              "      padding: 0 0 0 0;\n",
              "      width: 32px;\n",
              "    }\n",
              "\n",
              "    .colab-df-convert:hover {\n",
              "      background-color: #E2EBFA;\n",
              "      box-shadow: 0px 1px 2px rgba(60, 64, 67, 0.3), 0px 1px 3px 1px rgba(60, 64, 67, 0.15);\n",
              "      fill: #174EA6;\n",
              "    }\n",
              "\n",
              "    [theme=dark] .colab-df-convert {\n",
              "      background-color: #3B4455;\n",
              "      fill: #D2E3FC;\n",
              "    }\n",
              "\n",
              "    [theme=dark] .colab-df-convert:hover {\n",
              "      background-color: #434B5C;\n",
              "      box-shadow: 0px 1px 3px 1px rgba(0, 0, 0, 0.15);\n",
              "      filter: drop-shadow(0px 1px 2px rgba(0, 0, 0, 0.3));\n",
              "      fill: #FFFFFF;\n",
              "    }\n",
              "  </style>\n",
              "\n",
              "      <script>\n",
              "        const buttonEl =\n",
              "          document.querySelector('#df-d13c4c72-d073-4a0b-9bf7-8301c892bfce button.colab-df-convert');\n",
              "        buttonEl.style.display =\n",
              "          google.colab.kernel.accessAllowed ? 'block' : 'none';\n",
              "\n",
              "        async function convertToInteractive(key) {\n",
              "          const element = document.querySelector('#df-d13c4c72-d073-4a0b-9bf7-8301c892bfce');\n",
              "          const dataTable =\n",
              "            await google.colab.kernel.invokeFunction('convertToInteractive',\n",
              "                                                     [key], {});\n",
              "          if (!dataTable) return;\n",
              "\n",
              "          const docLinkHtml = 'Like what you see? Visit the ' +\n",
              "            '<a target=\"_blank\" href=https://colab.research.google.com/notebooks/data_table.ipynb>data table notebook</a>'\n",
              "            + ' to learn more about interactive tables.';\n",
              "          element.innerHTML = '';\n",
              "          dataTable['output_type'] = 'display_data';\n",
              "          await google.colab.output.renderOutput(dataTable, element);\n",
              "          const docLink = document.createElement('div');\n",
              "          docLink.innerHTML = docLinkHtml;\n",
              "          element.appendChild(docLink);\n",
              "        }\n",
              "      </script>\n",
              "    </div>\n",
              "  </div>\n",
              "  "
            ]
          },
          "metadata": {},
          "execution_count": 2
        }
      ],
      "source": [
        "import pandas as pd\n",
        "\n",
        "df = pd.read_csv(\"/content/PRO-Stars-Dataset-CSVs/dwarf_stars.csv\")\n",
        "df.head(10)"
      ]
    },
    {
      "cell_type": "code",
      "source": [
        "df.shape"
      ],
      "metadata": {
        "colab": {
          "base_uri": "https://localhost:8080/"
        },
        "id": "IJ39fA-LDiq5",
        "outputId": "f6dbb2a9-3cc9-4521-912d-8f054e30867f"
      },
      "execution_count": null,
      "outputs": [
        {
          "output_type": "execute_result",
          "data": {
            "text/plain": [
              "(352, 5)"
            ]
          },
          "metadata": {},
          "execution_count": 3
        }
      ]
    },
    {
      "cell_type": "markdown",
      "source": [
        "## DROP Unnecessary Columns if any, DROP NAN"
      ],
      "metadata": {
        "id": "w-eqk9UiY8kJ"
      }
    },
    {
      "cell_type": "code",
      "source": [
        "df = df.dropna()\n",
        "df.info()"
      ],
      "metadata": {
        "id": "9F7tenGe8NDE",
        "colab": {
          "base_uri": "https://localhost:8080/"
        },
        "outputId": "45103d90-e07b-45a9-db7f-935d45f88b10"
      },
      "execution_count": null,
      "outputs": [
        {
          "output_type": "stream",
          "name": "stdout",
          "text": [
            "<class 'pandas.core.frame.DataFrame'>\n",
            "Int64Index: 158 entries, 0 to 284\n",
            "Data columns (total 5 columns):\n",
            " #   Column     Non-Null Count  Dtype  \n",
            "---  ------     --------------  -----  \n",
            " 0   id         158 non-null    int64  \n",
            " 1   Star_name  158 non-null    object \n",
            " 2   Distance   158 non-null    float64\n",
            " 3   Mass       158 non-null    object \n",
            " 4   Radius     158 non-null    float64\n",
            "dtypes: float64(2), int64(1), object(2)\n",
            "memory usage: 7.4+ KB\n"
          ]
        }
      ]
    },
    {
      "cell_type": "code",
      "source": [
        "df.shape"
      ],
      "metadata": {
        "colab": {
          "base_uri": "https://localhost:8080/"
        },
        "id": "q2BTLpNZDn60",
        "outputId": "9f76ff93-5f1a-476a-a672-7d83e9928577"
      },
      "execution_count": null,
      "outputs": [
        {
          "output_type": "execute_result",
          "data": {
            "text/plain": [
              "(158, 5)"
            ]
          },
          "metadata": {},
          "execution_count": 5
        }
      ]
    },
    {
      "cell_type": "markdown",
      "source": [
        "## Remove ALL Special Characters and Convert to correct type\n",
        "\n",
        "Observe **dwarf stars data** and remove any special characters.\n",
        "\n",
        "Few of the examples highlighted in the below:\n",
        "\n",
        "*Note: The data is scraped fro wikipedia webpage and might change in future, hence it might vary!*\n",
        "\n",
        "*This may lead to differnce in data processing steps too!*\n",
        "\n",
        "<img src=\"https://s3-whjr-curriculum-uploads.whjr.online/595398f0-5d0b-475f-ab37-462599e70b4f.png\" width=600>"
      ],
      "metadata": {
        "id": "sP7caEkeLYSN"
      }
    },
    {
      "cell_type": "code",
      "source": [
        "df.Mass = df.Mass.str.replace('[^a-zA-Z0-9]', '').astype('float')"
      ],
      "metadata": {
        "id": "Yz9gRmZu8Pde",
        "colab": {
          "base_uri": "https://localhost:8080/"
        },
        "outputId": "2686e42e-7727-43f1-cc1e-040523d6a09e"
      },
      "execution_count": null,
      "outputs": [
        {
          "output_type": "stream",
          "name": "stderr",
          "text": [
            "<ipython-input-6-e44be3079e4a>:1: FutureWarning: The default value of regex will change from True to False in a future version.\n",
            "  df.Mass = df.Mass.str.replace('[^a-zA-Z0-9]', '').astype('float')\n",
            "/usr/local/lib/python3.8/dist-packages/pandas/core/generic.py:5516: SettingWithCopyWarning: \n",
            "A value is trying to be set on a copy of a slice from a DataFrame.\n",
            "Try using .loc[row_indexer,col_indexer] = value instead\n",
            "\n",
            "See the caveats in the documentation: https://pandas.pydata.org/pandas-docs/stable/user_guide/indexing.html#returning-a-view-versus-a-copy\n",
            "  self[name] = value\n"
          ]
        }
      ]
    },
    {
      "cell_type": "markdown",
      "source": [
        "## Update Radius and Mass Units"
      ],
      "metadata": {
        "id": "t9qGFOkfYk_4"
      }
    },
    {
      "cell_type": "code",
      "source": [
        "df[\"Radius\"] = df[\"Radius\"]*(0.102763)"
      ],
      "metadata": {
        "id": "vCbPIIJyLXAI",
        "outputId": "619b9286-f30b-4767-9419-24a90b54f781",
        "colab": {
          "base_uri": "https://localhost:8080/"
        }
      },
      "execution_count": null,
      "outputs": [
        {
          "output_type": "stream",
          "name": "stderr",
          "text": [
            "<ipython-input-7-b3393f1b9981>:1: SettingWithCopyWarning: \n",
            "A value is trying to be set on a copy of a slice from a DataFrame.\n",
            "Try using .loc[row_indexer,col_indexer] = value instead\n",
            "\n",
            "See the caveats in the documentation: https://pandas.pydata.org/pandas-docs/stable/user_guide/indexing.html#returning-a-view-versus-a-copy\n",
            "  df[\"Radius\"] = df[\"Radius\"]*(0.102763)\n"
          ]
        }
      ]
    },
    {
      "cell_type": "code",
      "source": [
        "df[\"Mass\"] = df[\"Mass\"]*(0.000954588)"
      ],
      "metadata": {
        "id": "yVyfNAEfMgzG",
        "outputId": "a13de28f-04e6-4103-f392-d626bed11373",
        "colab": {
          "base_uri": "https://localhost:8080/"
        }
      },
      "execution_count": null,
      "outputs": [
        {
          "output_type": "stream",
          "name": "stderr",
          "text": [
            "<ipython-input-8-a88faa75be44>:1: SettingWithCopyWarning: \n",
            "A value is trying to be set on a copy of a slice from a DataFrame.\n",
            "Try using .loc[row_indexer,col_indexer] = value instead\n",
            "\n",
            "See the caveats in the documentation: https://pandas.pydata.org/pandas-docs/stable/user_guide/indexing.html#returning-a-view-versus-a-copy\n",
            "  df[\"Mass\"] = df[\"Mass\"]*(0.000954588)\n"
          ]
        }
      ]
    },
    {
      "cell_type": "code",
      "source": [
        "df.info()"
      ],
      "metadata": {
        "colab": {
          "base_uri": "https://localhost:8080/"
        },
        "id": "QYjbCz8JGyWN",
        "outputId": "34b2409f-9707-40f2-bd40-9e661aa0be26"
      },
      "execution_count": null,
      "outputs": [
        {
          "output_type": "stream",
          "name": "stdout",
          "text": [
            "<class 'pandas.core.frame.DataFrame'>\n",
            "Int64Index: 158 entries, 0 to 284\n",
            "Data columns (total 5 columns):\n",
            " #   Column     Non-Null Count  Dtype  \n",
            "---  ------     --------------  -----  \n",
            " 0   id         158 non-null    int64  \n",
            " 1   Star_name  158 non-null    object \n",
            " 2   Distance   158 non-null    float64\n",
            " 3   Mass       158 non-null    float64\n",
            " 4   Radius     158 non-null    float64\n",
            "dtypes: float64(3), int64(1), object(1)\n",
            "memory usage: 7.4+ KB\n"
          ]
        }
      ]
    },
    {
      "cell_type": "markdown",
      "source": [
        "## Convert to CSV"
      ],
      "metadata": {
        "id": "QocK0rmHZQjJ"
      }
    },
    {
      "cell_type": "code",
      "source": [
        "df.to_csv(\"unit_converted_stars.csv\")\n",
        "df.dtypes"
      ],
      "metadata": {
        "id": "COHwOXtF8SIt",
        "colab": {
          "base_uri": "https://localhost:8080/"
        },
        "outputId": "e4b30949-ff7e-4deb-d8d6-b0fb9ca2271c"
      },
      "execution_count": null,
      "outputs": [
        {
          "output_type": "execute_result",
          "data": {
            "text/plain": [
              "id             int64\n",
              "Star_name     object\n",
              "Distance     float64\n",
              "Mass         float64\n",
              "Radius       float64\n",
              "dtype: object"
            ]
          },
          "metadata": {},
          "execution_count": 10
        }
      ]
    },
    {
      "cell_type": "markdown",
      "source": [
        "## Download CSV"
      ],
      "metadata": {
        "id": "8GaYbC4nZqYL"
      }
    },
    {
      "cell_type": "code",
      "source": [
        "# from google.colab import files\n",
        "# files.download(\"unit_converted_stars.csv\")"
      ],
      "metadata": {
        "id": "JHSyFEVjZcQU"
      },
      "execution_count": null,
      "outputs": []
    },
    {
      "cell_type": "markdown",
      "source": [
        "# MERGE "
      ],
      "metadata": {
        "id": "vXYDmvD28sTW"
      }
    },
    {
      "cell_type": "code",
      "source": [
        "import csv\n",
        "import pandas as pd\n",
        "\n",
        "file1 = '/content/PRO-Stars-Dataset-CSVs/bright_stars.csv'\n",
        "file2 = '/content/PRO-Stars-Dataset-CSVs/unit_converted_stars.csv'\n",
        "\n",
        "d1 = []\n",
        "d2 = []\n",
        "with open(file1,'r',encoding='utf8') as f:\n",
        "    csv_reader =csv.reader(f)\n",
        "    \n",
        "    for i in csv_reader:\n",
        "        d1.append(i)\n",
        "        \n",
        "with open(file2,'r',encoding='utf8') as f:\n",
        "    csv_reader = csv.reader(f)\n",
        "    \n",
        "    for i in csv_reader:\n",
        "        d2.append(i)\n",
        "\n",
        "h1 = d1[0]\n",
        "h2 = d2[0]\n",
        "\n",
        "p_d1 = d1[1:]\n",
        "p_d2 = d2[1:]\n",
        "\n",
        "h = h1+h2\n",
        "\n",
        "p_d =[]\n",
        "\n",
        "for i in p_d1:\n",
        "    p_d.append(i)\n",
        "for j in p_d2:\n",
        "    p_d.append(j)"
      ],
      "metadata": {
        "id": "Y8V-jVCVVJxe"
      },
      "execution_count": null,
      "outputs": []
    },
    {
      "cell_type": "code",
      "source": [
        "with open(\"total_stars.csv\",'w',encoding='utf8') as f:\n",
        "    csvwriter = csv.writer(f)\n",
        "    csvwriter.writerow(h)   \n",
        "    csvwriter.writerows(p_d)\n",
        "    \n",
        "df = pd.read_csv('total_stars.csv')\n",
        "df.tail(8)\n",
        "\n",
        "from google.colab import files\n",
        "files.download(\"total_stars.csv\")\n"
      ],
      "metadata": {
        "colab": {
          "base_uri": "https://localhost:8080/",
          "height": 34
        },
        "id": "9hNfytMdVZCx",
        "outputId": "56b18e6e-dac1-42b7-971e-3b9ed6c4987b"
      },
      "execution_count": null,
      "outputs": [
        {
          "output_type": "display_data",
          "data": {
            "text/plain": [
              "<IPython.core.display.Javascript object>"
            ],
            "application/javascript": [
              "\n",
              "    async function download(id, filename, size) {\n",
              "      if (!google.colab.kernel.accessAllowed) {\n",
              "        return;\n",
              "      }\n",
              "      const div = document.createElement('div');\n",
              "      const label = document.createElement('label');\n",
              "      label.textContent = `Downloading \"${filename}\": `;\n",
              "      div.appendChild(label);\n",
              "      const progress = document.createElement('progress');\n",
              "      progress.max = size;\n",
              "      div.appendChild(progress);\n",
              "      document.body.appendChild(div);\n",
              "\n",
              "      const buffers = [];\n",
              "      let downloaded = 0;\n",
              "\n",
              "      const channel = await google.colab.kernel.comms.open(id);\n",
              "      // Send a message to notify the kernel that we're ready.\n",
              "      channel.send({})\n",
              "\n",
              "      for await (const message of channel.messages) {\n",
              "        // Send a message to notify the kernel that we're ready.\n",
              "        channel.send({})\n",
              "        if (message.buffers) {\n",
              "          for (const buffer of message.buffers) {\n",
              "            buffers.push(buffer);\n",
              "            downloaded += buffer.byteLength;\n",
              "            progress.value = downloaded;\n",
              "          }\n",
              "        }\n",
              "      }\n",
              "      const blob = new Blob(buffers, {type: 'application/binary'});\n",
              "      const a = document.createElement('a');\n",
              "      a.href = window.URL.createObjectURL(blob);\n",
              "      a.download = filename;\n",
              "      div.appendChild(a);\n",
              "      a.click();\n",
              "      div.remove();\n",
              "    }\n",
              "  "
            ]
          },
          "metadata": {}
        },
        {
          "output_type": "display_data",
          "data": {
            "text/plain": [
              "<IPython.core.display.Javascript object>"
            ],
            "application/javascript": [
              "download(\"download_28428e9c-03cc-45e4-b03c-9b2b598723a3\", \"total_stars.csv\", 13669)"
            ]
          },
          "metadata": {}
        }
      ]
    }
  ]
}